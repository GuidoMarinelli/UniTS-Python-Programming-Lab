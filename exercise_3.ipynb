{
 "cells": [
  {
   "attachments": {},
   "cell_type": "markdown",
   "metadata": {},
   "source": [
    "# Esercizio 3"
   ]
  },
  {
   "attachments": {},
   "cell_type": "markdown",
   "metadata": {},
   "source": [
    "**File:** exercise_3.ipynb<br>\n",
    "**Author:** [G.Marinelli](https://github.com/GuidoMarinelli/)<br>\n",
    "**Date:** 2023/03/24<br>\n",
    "**Version:** 1.0<br>\n",
    "**Description:** Lezione 5 - Regine: Soluzione Esercizio 3."
   ]
  },
  {
   "attachments": {},
   "cell_type": "markdown",
   "metadata": {},
   "source": [
    "## Il Problema delle 8 regine\n",
    "\n",
    "Il **rompicapo (o problema) delle otto regine** è un problema che consiste nel trovare il modo di posizionare otto donne (pezzo degli scacchi) su una scacchiera 8x8 tali che nessuna di esse possa catturarne un’altra, usando i movimenti standard della regina. Perciò, una soluzione dovrà prevedere che nessuna regina abbia una colonna, traversa o diagonale in comune con un’altra regina. […]” ([Wikipedia](https://it.wikipedia.org/wiki/Rompicapo_delle_otto_regine))"
   ]
  },
  {
   "attachments": {},
   "cell_type": "markdown",
   "metadata": {
    "tags": []
   },
   "source": [
    "<center><img src=\"img/regine.jpg\" style=\"height: 300px\"/></center>"
   ]
  },
  {
   "attachments": {},
   "cell_type": "markdown",
   "metadata": {},
   "source": [
    "**Struttura dati**\n",
    "* La scacchiera é una matrice “righe” x “colonne”\n",
    "* Le regine sono i valori della matrice, ad esempio: `0` casella vuota, `1` casella con regina"
   ]
  },
  {
   "cell_type": "raw",
   "metadata": {},
   "source": [
    "scacchiera = [[0,0,0,1,0,0,0,0],  \n",
    "              [0,0,0,0,0,0,1,0],  \n",
    "              [0,0,1,0,0,0,0,0],  \n",
    "              [0,0,0,0,0,0,0,1],  \n",
    "              [0,1,0,0,0,0,0,0],  \n",
    "              [0,0,0,0,1,0,0,0],  \n",
    "              [1,0,0,0,0,0,0,0],  \n",
    "              [0,0,0,0,0,1,0,0]]"
   ]
  },
  {
   "attachments": {},
   "cell_type": "markdown",
   "metadata": {},
   "source": [
    "### 1. Trovate 7 soluzioni per il gioco delle regine con il metodo delle permutazioni: quanto è il tempo medio?"
   ]
  },
  {
   "attachments": {},
   "cell_type": "markdown",
   "metadata": {},
   "source": [
    "### 2. Contate quanti tentativi fa il programma per trovare ogni soluzione del problema 8 regine"
   ]
  },
  {
   "attachments": {},
   "cell_type": "markdown",
   "metadata": {},
   "source": [
    "### 3. Alcune soluzioni possono essere ripetute: fate in modo che le soluzioni siano “uniche”"
   ]
  },
  {
   "attachments": {},
   "cell_type": "markdown",
   "metadata": {},
   "source": [
    "### 4. Se ci sono soluzioni ripetute, contate quante volte ogni soluzione è ripetuta"
   ]
  },
  {
   "attachments": {},
   "cell_type": "markdown",
   "metadata": {},
   "source": [
    "### 5. Generalizzate il programma per risolvere una scacchiera di qualunque dimensione NxN"
   ]
  },
  {
   "attachments": {},
   "cell_type": "markdown",
   "metadata": {},
   "source": [
    "### 6. Trovate quale è la scacchiera più grande di cui si riesce a trovare 1 soluzione in meno di 40s"
   ]
  },
  {
   "attachments": {},
   "cell_type": "markdown",
   "metadata": {},
   "source": [
    "### 7. Ogni soluzione è ‘simmetrica’ per rotazioni della scacchiera 8x8 di 90, 180 e 270 gradi. <br> Trovata una soluzione, costruite le 4 simmetriche per rotazione prima di cercarne un’altra"
   ]
  },
  {
   "cell_type": "code",
   "execution_count": null,
   "metadata": {},
   "outputs": [],
   "source": []
  }
 ],
 "metadata": {
  "kernelspec": {
   "display_name": "Python 3 (ipykernel)",
   "language": "python",
   "name": "python3"
  },
  "language_info": {
   "codemirror_mode": {
    "name": "ipython",
    "version": 3
   },
   "file_extension": ".py",
   "mimetype": "text/x-python",
   "name": "python",
   "nbconvert_exporter": "python",
   "pygments_lexer": "ipython3",
   "version": "3.10.11"
  }
 },
 "nbformat": 4,
 "nbformat_minor": 4
}
