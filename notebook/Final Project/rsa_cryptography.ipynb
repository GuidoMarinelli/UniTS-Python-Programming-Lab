{
 "cells": [
  {
   "cell_type": "markdown",
   "id": "740c19d5-39a2-4813-a5a6-eafc9b6e8c0b",
   "metadata": {},
   "source": [
    "#  RSA System"
   ]
  },
  {
   "cell_type": "markdown",
   "id": "44ce3cba-93a3-4ae1-a70a-97c2f4abe63e",
   "metadata": {},
   "source": [
    "**File:** rsa_cryptography.ipynb<br>\n",
    "**Author:** [G.Marinelli](https://github.com/GuidoMarinelli/)<br>\n",
    "**Date:** 2023/07/13<br>\n",
    "**Version:** 1.0<br>\n",
    "**Description:** Implementing the RSA Public Key Encryption Algorithm."
   ]
  },
  {
   "cell_type": "markdown",
   "id": "02012c3a-c8a3-4507-99b4-755b73e758db",
   "metadata": {},
   "source": [
    "## Setup"
   ]
  },
  {
   "cell_type": "code",
   "execution_count": 1,
   "id": "b8908ad7-9e68-4156-8e57-80edd043f06b",
   "metadata": {},
   "outputs": [],
   "source": [
    "import math\n",
    "import random\n",
    "import time"
   ]
  },
  {
   "cell_type": "markdown",
   "id": "8906e5a1-df4b-49ee-81ac-cf29c7f0d023",
   "metadata": {},
   "source": [
    "## Utility function"
   ]
  },
  {
   "cell_type": "code",
   "execution_count": 2,
   "id": "f3ed9874-a7a1-46b8-a8a0-8c0c481ee704",
   "metadata": {},
   "outputs": [],
   "source": [
    "def load_message():\n",
    "    \"\"\"Takes a file as input, displays it and return it.\"\"\"\n",
    "    file_extension = '.txt'\n",
    "\n",
    "    while True:\n",
    "        try:\n",
    "            filename = input('Enter the name of file to be encoded: ')\n",
    "            file = filename + file_extension\n",
    "            \n",
    "            with open(file, mode='r') as f:\n",
    "                text = f.read()\n",
    "                \n",
    "        except FileNotFoundError:\n",
    "            print('No such files in the directory.\\n ')\n",
    "            \n",
    "        else:\n",
    "            return text\n",
    "            \n",
    "\n",
    "def generate_key_e(z):\n",
    "    \"\"\"Determines the exponent e of the public key.\"\"\"\n",
    "    e = 0\n",
    "\n",
    "    # find the first uncommon and smaller factor than z\n",
    "    for i in range(2, z):\n",
    "        if math.gcd(z, i) == 1:\n",
    "            e = i\n",
    "            break\n",
    "\n",
    "    return e\n",
    "\n",
    "\n",
    "def generate_key_d(z, e):\n",
    "    \"\"\"Determines the exponent d of the private key.\"\"\"\n",
    "    d = 0\n",
    "\n",
    "    for i in range(z):\n",
    "\n",
    "        if ((e * i) % z) == 1:\n",
    "            d = i\n",
    "            break\n",
    "\n",
    "    return d\n",
    "\n",
    "\n",
    "def int_to_binary(int_char):\n",
    "    \"\"\"Converts integer to binary by applying a padding.\"\"\"\n",
    "    unicode32_length = 32\n",
    "    pad = '0'\n",
    "\n",
    "    bin_char = str(bin(int_char))[2:]\n",
    "    bin_char_length = len(bin_char)\n",
    "\n",
    "    return pad * (unicode32_length - bin_char_length) + bin_char\n",
    "\n",
    "\n",
    "def rsa_encode(m):\n",
    "    return (m ** e) % n\n",
    "\n",
    "\n",
    "def rsa_decode(c):\n",
    "    return (c ** d) % n\n",
    "\n",
    "\n",
    "def encode(message):\n",
    "    message_list = [ord(char) for char in list(message)]\n",
    "    code = [rsa_encode(m) for m in message_list]\n",
    "    # print('encode int:', c_list)\n",
    "    return ''.join([int_to_binary(c) for c in code])\n",
    "\n",
    "\n",
    "def decode(code):\n",
    "    unicode32_length = 32\n",
    "    base = 2\n",
    "    k = int(len(code) / unicode32_length)\n",
    "\n",
    "    split_code = [code[unicode32_length * i: unicode32_length * (i + 1)] for i in range(k)]\n",
    "    code_int = [int(c, base) for c in split_code]\n",
    "    return ''.join([chr(rsa_decode(c)) for c in code_int])\n",
    "\n",
    "\n",
    "def export_encrypted_file(encrypted_text, filename='file'):\n",
    "    \"\"\"Save the encrypted file as 'encrypted_filename.txt'.\"\"\"\n",
    "    encrypted_file = 'encrypted_' + filename\n",
    "    \n",
    "    with open(encrypted_file, mode='w') as f:\n",
    "        f.write(encrypted_text)"
   ]
  },
  {
   "cell_type": "markdown",
   "id": "929c2a02-5115-4a7e-9b30-29fe4b226626",
   "metadata": {},
   "source": [
    "## Generation of public and private keys"
   ]
  },
  {
   "cell_type": "code",
   "execution_count": 3,
   "id": "cb049dad-fed2-48ff-9a58-1561ddbff64d",
   "metadata": {},
   "outputs": [],
   "source": [
    "# import a list of prime number values from a txt file\n",
    "filename_ds = 'prime_number_ds.txt'\n",
    "\n",
    "with open(filename_ds, 'r') as f:\n",
    "    data = f.readline()\n",
    "\n",
    "prime_number_ds = [int(p) for p in data.split(',')]"
   ]
  },
  {
   "cell_type": "code",
   "execution_count": 4,
   "id": "39bcd580-e5eb-4edb-8a59-d1372ef56ce0",
   "metadata": {},
   "outputs": [
    {
     "name": "stdout",
     "output_type": "stream",
     "text": [
      "1297\n",
      "1109\n"
     ]
    }
   ],
   "source": [
    "# randomly select two prime numbers from the dataset\n",
    "p = random.choice(prime_number_ds)\n",
    "q = random.choice(prime_number_ds)\n",
    "\n",
    "print(p)\n",
    "print(q)"
   ]
  },
  {
   "cell_type": "code",
   "execution_count": 5,
   "id": "de0c253b-29bc-40a4-93d5-71c89c1f85d5",
   "metadata": {},
   "outputs": [
    {
     "data": {
      "text/plain": [
       "1438373"
      ]
     },
     "execution_count": 5,
     "metadata": {},
     "output_type": "execute_result"
    }
   ],
   "source": [
    "# calculate the modulus\n",
    "n = p * q\n",
    "n"
   ]
  },
  {
   "cell_type": "code",
   "execution_count": 6,
   "id": "a7ecdabc-d4ee-4ec2-839f-794bb9229e41",
   "metadata": {},
   "outputs": [
    {
     "data": {
      "text/plain": [
       "1435968"
      ]
     },
     "execution_count": 6,
     "metadata": {},
     "output_type": "execute_result"
    }
   ],
   "source": [
    "# calculate the tozient function\n",
    "z = (p - 1) * (q - 1)\n",
    "z"
   ]
  },
  {
   "cell_type": "code",
   "execution_count": 7,
   "id": "2606122a-3882-45ad-8731-53cc573ceee4",
   "metadata": {},
   "outputs": [],
   "source": [
    "# determines the exponent e of the public key\n",
    "e = generate_key_e(z)  \n",
    "# determines the exponent d of the private key\n",
    "d = generate_key_d(z, e)"
   ]
  },
  {
   "cell_type": "code",
   "execution_count": 8,
   "id": "4efb3299-32d6-4829-b6b3-e8a2d7e3f91e",
   "metadata": {},
   "outputs": [
    {
     "name": "stdout",
     "output_type": "stream",
     "text": [
      "\n",
      "KEYS:\n",
      "Public key: (1438373, 5)\n",
      "Private key: (1438373, 861581)\n"
     ]
    }
   ],
   "source": [
    "# view the keys\n",
    "print('\\nKEYS:')\n",
    "print(f'Public key: {n, e}')\n",
    "print(f'Private key: {n, d}')"
   ]
  },
  {
   "cell_type": "markdown",
   "id": "8c2caa19-2a0c-46cc-beb5-55da2e424d7d",
   "metadata": {},
   "source": [
    "## Performs the encryption process"
   ]
  },
  {
   "cell_type": "code",
   "execution_count": 9,
   "id": "48c6dd7f-244e-4605-b640-694a443e2eac",
   "metadata": {},
   "outputs": [
    {
     "name": "stdin",
     "output_type": "stream",
     "text": [
      "Enter the name of file to be encoded:  test\n"
     ]
    },
    {
     "name": "stdout",
     "output_type": "stream",
     "text": [
      "\n",
      "TEXT PRESENT IN THE FILE:\n",
      "Hello Cryptography! 😆\n"
     ]
    }
   ],
   "source": [
    "# load a message from a txt file\n",
    "my_message = load_message()  \n",
    "\n",
    "print('\\nTEXT PRESENT IN THE FILE:')\n",
    "print(my_message)"
   ]
  },
  {
   "cell_type": "code",
   "execution_count": 10,
   "id": "4b22a66f-2e77-4d54-8d7c-2e976f8cd26a",
   "metadata": {},
   "outputs": [
    {
     "name": "stdout",
     "output_type": "stream",
     "text": [
      "\n",
      "ENCRYPTED FILE:\n",
      "000000000000010010101011000110110000000000010100100011110010001100000000000001001001011000011101000000000000010010010110000111010000000000000000101000111000000000000000000001110011001100101101000000000000111000110101101000010000000000000001010010110110111000000000000010100110101010101001000000000000011100101111001101000000000000000100011111001000111000000000000000001010001110000000000000000000110110011111010000000000000000000001010010110110111000000000000000111101111000000111000000000000011100101111001101000000000000001011110000001000111000000000000010100110101010101001000000000000010010010001001110100000000000000111001100110010110100000000000100100010100010000011\n"
     ]
    }
   ],
   "source": [
    "# encryption of the message\n",
    "encrypted_message = encode(my_message)\n",
    "\n",
    "# view the contents of the encrypted file\n",
    "print('\\nENCRYPTED FILE:')\n",
    "print(encrypted_message)"
   ]
  },
  {
   "cell_type": "code",
   "execution_count": 11,
   "id": "3c72007b-b66a-4118-9141-070c6295585c",
   "metadata": {},
   "outputs": [],
   "source": [
    "# save the encrypted message\n",
    "export_encrypted_file(encrypted_message)"
   ]
  },
  {
   "cell_type": "markdown",
   "id": "07a885a0-82bd-40e7-862b-6834a10db675",
   "metadata": {},
   "source": [
    "## Performs the decryption process"
   ]
  },
  {
   "cell_type": "code",
   "execution_count": 12,
   "id": "58f2affc-af2f-4b72-a2cf-49cf90cb2bdb",
   "metadata": {},
   "outputs": [
    {
     "name": "stdout",
     "output_type": "stream",
     "text": [
      "\n",
      "CHECK THE PROCESS (decrypted file):\n",
      "\n",
      "Hello Cryptography! 😆\n",
      "\n",
      "Time for decryption of the message: 65.9s\n"
     ]
    }
   ],
   "source": [
    "start = time.time()\n",
    "\n",
    "# decryption of the encrypted message\n",
    "decrypted_message = decode(encrypted_message)\n",
    "\n",
    "# view the contents of the dencrypted file\n",
    "print('\\nCHECK THE PROCESS (decrypted file):\\n')\n",
    "print(decrypted_message)\n",
    "\n",
    "end = time.time()\n",
    "\n",
    "print(f'\\nTime for decryption of the message: {end - start:.1f}s')"
   ]
  },
  {
   "cell_type": "code",
   "execution_count": null,
   "id": "a84eef60-34b6-453d-9130-5a255791d005",
   "metadata": {},
   "outputs": [],
   "source": []
  }
 ],
 "metadata": {
  "kernelspec": {
   "display_name": "Python 3 (ipykernel)",
   "language": "python",
   "name": "python3"
  },
  "language_info": {
   "codemirror_mode": {
    "name": "ipython",
    "version": 3
   },
   "file_extension": ".py",
   "mimetype": "text/x-python",
   "name": "python",
   "nbconvert_exporter": "python",
   "pygments_lexer": "ipython3",
   "version": "3.10.8"
  }
 },
 "nbformat": 4,
 "nbformat_minor": 5
}
