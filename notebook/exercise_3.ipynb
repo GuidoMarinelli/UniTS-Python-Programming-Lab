{
 "cells": [
  {
   "attachments": {},
   "cell_type": "markdown",
   "metadata": {},
   "source": [
    "# Esercizio 3"
   ]
  },
  {
   "attachments": {},
   "cell_type": "markdown",
   "metadata": {},
   "source": [
    "**File:** exercise_3.ipynb<br>\n",
    "**Author:** [G.Marinelli](https://github.com/GuidoMarinelli/)<br>\n",
    "**Date:** 2023/06/22<br>\n",
    "**Version:** 1.0<br>\n",
    "**Description:** Lezione 5 - Regine: Soluzione Esercizio 3."
   ]
  },
  {
   "attachments": {},
   "cell_type": "markdown",
   "metadata": {
    "tags": []
   },
   "source": [
    "<center><img src=\"img/regine.jpg\" style=\"height: 300px\"/></center>"
   ]
  },
  {
   "attachments": {},
   "cell_type": "markdown",
   "metadata": {},
   "source": [
    "## Il Problema delle 8 regine\n",
    "\n",
    "Il **rompicapo (o problema) delle otto regine** è un problema che consiste nel trovare il modo di posizionare otto donne (pezzo degli scacchi) su una scacchiera 8x8 tali che nessuna di esse possa catturarne un’altra, usando i movimenti standard della regina. Perciò, una soluzione dovrà prevedere che nessuna regina abbia una colonna, traversa o diagonale in comune con un’altra regina. […]” ([Wikipedia](https://it.wikipedia.org/wiki/Rompicapo_delle_otto_regine))"
   ]
  },
  {
   "cell_type": "markdown",
   "metadata": {},
   "source": [
    "##### funzioni di utilità prese dal programma dei professori"
   ]
  },
  {
   "cell_type": "code",
   "execution_count": 1,
   "metadata": {},
   "outputs": [],
   "source": [
    "#\n",
    "# File: Otto_regine.py\n",
    "#\n",
    "# Author: E.Romelli, D.Tavagnacco\n",
    "#\n",
    "# Date: 2021/04/13\n",
    "#\n",
    "# Version: 1.0\n",
    "#\n",
    "# Description: Example program to solve 8 queen-like problem\n",
    "#              using brute force + random approach\n",
    "#\n",
    "\n",
    "import random\n",
    "import time\n",
    "\n",
    "\n",
    "def stessa_diagonale(x0, y0, x1, y1):\n",
    "    \"\"\"\n",
    "    Ritorna Vero se posizioni (x0, y0) e (x1, y1) sono sulla stessa \"diagonale\"\n",
    "    \"\"\"\n",
    "    # distanza lungo y\n",
    "    dy = abs(y1 - y0)\n",
    "\n",
    "    # distanza lungo x\n",
    "    dx = abs(x1 - x0)\n",
    "\n",
    "    # se dx == dy , dx/dy == 1 e sono sulla stessa diagonale, boolean expression\n",
    "    return dx == dy\n",
    "\n",
    "\n",
    "def incrocia_colonne(posizioni, col):\n",
    "    \"\"\"\n",
    "    Ritorna Vero se la colonna 'col', che indica la posizione della regina \n",
    "    (col, posizioni[col]) incrocia la diagonale di qualcuna \n",
    "    delle posizioni delle regine precedenti\n",
    "    \"\"\"\n",
    "    # controllo tutte le precedenti fino a questa 'col'\n",
    "    for c in range(col):\n",
    "        # la coordinata X (la riga) è indice (c)\n",
    "        # la coordinata Y,(la colonna) è valore lista nell'indice (c)\n",
    "        if stessa_diagonale(c, posizioni[c], col, posizioni[col]):\n",
    "            # stop se trovo problemi\n",
    "            return True\n",
    "            # nessun incrocio, la posizione va bene e NON incrocia altre colonne\n",
    "    return False\n",
    "\n",
    "\n",
    "def soluzione_ok(soluzione_posizioni):\n",
    "    \"\"\"\n",
    "    Controlla tutte le posizioni della possibile soluzione \n",
    "    'soluzione_posizioni' per verificare se ognuna delle posizioni \n",
    "    (colonne dela permatazione) ogni colonna incrocia la diagonale \n",
    "    di qualche altra posizione\n",
    "    \"\"\"\n",
    "\n",
    "    for col in range(1, len(soluzione_posizioni)):\n",
    "        # verifica se incrocia\n",
    "        # if incrocia_colonne(soluzione_posizioni, col) == True:\n",
    "        if incrocia_colonne(soluzione_posizioni, col):\n",
    "            # stop se trova incroci, la soluzione non è valida\n",
    "            return False\n",
    "\n",
    "            # Se non è ritornato prima,\n",
    "    # allora nessun incrocio trvato: posizioni della soluzione valide\n",
    "    return True\n"
   ]
  },
  {
   "attachments": {},
   "cell_type": "markdown",
   "metadata": {},
   "source": [
    "### 1. Trovate 7 soluzioni per il gioco delle regine con il metodo delle permutazioni: quanto è il tempo medio?"
   ]
  },
  {
   "cell_type": "code",
   "execution_count": 2,
   "metadata": {},
   "outputs": [
    {
     "name": "stdout",
     "output_type": "stream",
     "text": [
      "Found solution [5, 3, 6, 0, 2, 4, 1, 7] in 0.0011043548583984375 s.\n",
      "Found solution [5, 0, 4, 1, 7, 2, 6, 3] in 0.0007090568542480469 s.\n",
      "Found solution [5, 0, 4, 1, 7, 2, 6, 3] in 0.0011720657348632812 s.\n",
      "Found solution [2, 5, 7, 0, 4, 6, 1, 3] in 0.0007770061492919922 s.\n",
      "Found solution [3, 1, 6, 4, 0, 7, 5, 2] in 8.678436279296875e-05 s.\n",
      "Found solution [1, 7, 5, 0, 2, 4, 6, 3] in 8.702278137207031e-05 s.\n",
      "Found solution [5, 2, 0, 6, 4, 7, 1, 3] in 0.0010540485382080078 s.\n",
      "The average time is 0.0007129056113106864 s.\n"
     ]
    }
   ],
   "source": [
    "number_solutions = 7\n",
    "solutions = 0\n",
    "times_list = []\n",
    "\n",
    "# inizializzo generatore permutazioni\n",
    "random_generator = random.Random()\n",
    "\n",
    "# preparo la \"possibile soluzione\" con posizoni da testare\n",
    "scacchiera = list(range(8))\n",
    "\n",
    "# misuro il tempo di partenza per la ricerca della soluzione\n",
    "start_time = time.time()\n",
    "\n",
    "while solutions < number_solutions:\n",
    "\n",
    "    # permutazione casuale della soluzione 'mescolando' posizioni\n",
    "    random_generator.shuffle(scacchiera)\n",
    "\n",
    "    # verifica se la permutazione casuale e' soluzione\n",
    "    # if soluzione_ok(scacchiera) == True:\n",
    "    if soluzione_ok(scacchiera):\n",
    "        \n",
    "        time_solution = time.time() - start_time\n",
    "        times_list.append(time_solution)\n",
    "\n",
    "        # se la soluzione è buona, scrive\n",
    "        print(f'Found solution {scacchiera} in {time_solution} s.')\n",
    "\n",
    "        # incremento contatore soluzioni trovate (condizione stop loop)\n",
    "        solutions += 1\n",
    "\n",
    "        # reset timer ricerca soluzione\n",
    "        start_time = time.time()\n",
    "\n",
    "print(f\"The average time is {sum(times_list) / number_solutions} s.\")"
   ]
  },
  {
   "attachments": {},
   "cell_type": "markdown",
   "metadata": {},
   "source": [
    "### 2. Contate quanti tentativi fa il programma per trovare ogni soluzione del problema 8 regine"
   ]
  },
  {
   "cell_type": "code",
   "execution_count": 3,
   "metadata": {},
   "outputs": [
    {
     "name": "stdout",
     "output_type": "stream",
     "text": [
      "Found solution [1, 5, 0, 6, 3, 7, 2, 4] in 0.0007481575012207031 s.\n",
      "The number of attempts is 140\n"
     ]
    }
   ],
   "source": [
    "solutions = 0\n",
    "attempts = 0\n",
    "\n",
    "# inizializzo generatore permutazioni\n",
    "random_generator = random.Random()\n",
    "\n",
    "# preparo la \"possibile soluzione\" con posizoni da testare\n",
    "scacchiera = list(range(8))\n",
    "\n",
    "# misuro il tempo di partenza per la ricerca della soluzione\n",
    "start_time = time.time()\n",
    "\n",
    "while solutions < 1:\n",
    "\n",
    "    # permutazione casuale della soluzione 'mescolando' posizioni\n",
    "    random_generator.shuffle(scacchiera)\n",
    "\n",
    "    # verifica se la permutazione casuale e' soluzione\n",
    "    # if soluzione_ok(scacchiera) == True:\n",
    "    if soluzione_ok(scacchiera):\n",
    "        # se la soluzione è buona, scrive\n",
    "        print(f'Found solution {scacchiera} in {time.time() - start_time} s.')\n",
    "\n",
    "        # incremento contatore soluzioni trovate (condizione stop loop)\n",
    "        solutions += 1\n",
    "\n",
    "        # reset timer ricerca soluzione\n",
    "        start_time = time.time()\n",
    "    else:\n",
    "        attempts += 1\n",
    "\n",
    "print(f'The number of attempts is {attempts}')"
   ]
  },
  {
   "attachments": {},
   "cell_type": "markdown",
   "metadata": {},
   "source": [
    "### 3. Alcune soluzioni possono essere ripetute: fate in modo che le soluzioni siano “uniche”"
   ]
  },
  {
   "cell_type": "code",
   "execution_count": 4,
   "metadata": {},
   "outputs": [
    {
     "name": "stdout",
     "output_type": "stream",
     "text": [
      "Found solution [1, 6, 4, 7, 0, 3, 5, 2] in 0.0006740093231201172 s.\n",
      "Found solution [3, 7, 0, 4, 6, 1, 5, 2] in 0.005452871322631836 s.\n",
      "Found solution [3, 0, 4, 7, 5, 2, 6, 1] in 0.0018858909606933594 s.\n",
      "Found solution [2, 7, 3, 6, 0, 5, 1, 4] in 0.0012462139129638672 s.\n",
      "Found solution [5, 1, 6, 0, 3, 7, 4, 2] in 0.0017781257629394531 s.\n",
      "Found solution [2, 4, 7, 3, 0, 6, 1, 5] in 0.01402592658996582 s.\n",
      "Found solution [5, 2, 6, 1, 7, 4, 0, 3] in 0.0016431808471679688 s.\n",
      "Number of unique solutions: 7 \n"
     ]
    }
   ],
   "source": [
    "unique_solution = []\n",
    "solutions = 0\n",
    "number_solutions = 7\n",
    "\n",
    "# inizializzo generatore permutazioni\n",
    "random_generator = random.Random()\n",
    "\n",
    "# preparo la \"possibile soluzione\" con posizoni da testare\n",
    "scacchiera = list(range(8))\n",
    "\n",
    "# misuro il tempo di partenza per la ricerca della soluzione\n",
    "start_time = time.time()\n",
    "\n",
    "while solutions < number_solutions:\n",
    "\n",
    "    # permutazione casuale della soluzione 'mescolando' posizioni\n",
    "    random_generator.shuffle(scacchiera)\n",
    "    \n",
    "    # verifica se la permutazione casuale e' soluzione\n",
    "    # if soluzione_ok(scacchiera) == True:\n",
    "    if soluzione_ok(scacchiera):\n",
    "        \n",
    "        if scacchiera not in unique_solution:\n",
    "            unique_solution.append(scacchiera.copy())\n",
    "\n",
    "            # se la soluzione è buona, scrive\n",
    "            print(f'Found solution {scacchiera} in {time.time() - start_time} s.')\n",
    "\n",
    "            # incremento contatore soluzioni trovate (condizione stop loop)\n",
    "            solutions += 1\n",
    "    \n",
    "            # reset timer ricerca soluzione\n",
    "            start_time = time.time()\n",
    "        \n",
    "print(f'Number of unique solutions: {len(unique_solution)} ')"
   ]
  },
  {
   "attachments": {},
   "cell_type": "markdown",
   "metadata": {},
   "source": [
    "### 4. Se ci sono soluzioni ripetute, contate quante volte ogni soluzione è ripetuta"
   ]
  },
  {
   "cell_type": "code",
   "execution_count": 12,
   "metadata": {},
   "outputs": [
    {
     "name": "stdout",
     "output_type": "stream",
     "text": [
      "Found solution [5, 1, 6, 0, 3, 7, 4, 2] in 0.00017213821411132812 s.\n",
      "Found solution [3, 0, 4, 7, 1, 6, 2, 5] in 0.00019407272338867188 s.\n",
      "Found solution [6, 2, 0, 5, 7, 4, 1, 3] in 0.003013134002685547 s.\n",
      "Found solution [3, 7, 0, 4, 6, 1, 5, 2] in 0.0015048980712890625 s.\n",
      "Found solution [3, 1, 4, 7, 5, 0, 2, 6] in 0.0009899139404296875 s.\n",
      "Found solution [3, 7, 0, 2, 5, 1, 6, 4] in 0.001461029052734375 s.\n",
      "Found solution [3, 7, 0, 4, 6, 1, 5, 2] in 0.0008020401000976562 s.\n",
      "Found solution [6, 3, 1, 7, 5, 0, 2, 4] in 0.002079010009765625 s.\n",
      "\n",
      "      TIMES THAT A SOLUTION APPEARS \n",
      "Solution [5, 1, 6, 0, 3, 7, 4, 2] appears 1 times.\n",
      "Solution [3, 0, 4, 7, 1, 6, 2, 5] appears 1 times.\n",
      "Solution [6, 2, 0, 5, 7, 4, 1, 3] appears 1 times.\n",
      "Solution [3, 7, 0, 4, 6, 1, 5, 2] appears 2 times.\n",
      "Solution [3, 1, 4, 7, 5, 0, 2, 6] appears 1 times.\n",
      "Solution [3, 7, 0, 2, 5, 1, 6, 4] appears 1 times.\n",
      "Solution [6, 3, 1, 7, 5, 0, 2, 4] appears 1 times.\n"
     ]
    }
   ],
   "source": [
    "solutions_list = []\n",
    "unique_solution = []\n",
    "solutions = 0\n",
    "number_solutions = 7\n",
    "\n",
    "# inizializzo generatore permutazioni\n",
    "random_generator = random.Random()\n",
    "\n",
    "# preparo la \"possibile soluzione\" con posizoni da testare\n",
    "scacchiera = list(range(8))\n",
    "\n",
    "# misuro il tempo di partenza per la ricerca della soluzione\n",
    "start_time = time.time()\n",
    "\n",
    "while solutions < number_solutions:\n",
    "\n",
    "    # permutazione casuale della soluzione 'mescolando' posizioni\n",
    "    random_generator.shuffle(scacchiera)\n",
    "    \n",
    "    # verifica se la permutazione casuale e' soluzione\n",
    "    # if soluzione_ok(scacchiera) == True:\n",
    "    if soluzione_ok(scacchiera):\n",
    "        # se la soluzione è buona, scrive\n",
    "        print(f'Found solution {scacchiera} in {time.time() - start_time} s.')\n",
    "        solutions_list.append(scacchiera.copy())\n",
    "\n",
    "        if scacchiera not in unique_solution:\n",
    "            unique_solution.append(scacchiera.copy())\n",
    "\n",
    "            # se la soluzione è buona, scrive\n",
    "            #print(f'Found solution {scacchiera} in {time.time() - start_time} s.')\n",
    "\n",
    "            # incremento contatore soluzioni trovate (condizione stop loop)\n",
    "            solutions += 1\n",
    "    \n",
    "            # reset timer ricerca soluzione\n",
    "            start_time = time.time()\n",
    "\n",
    "if len(solutions_list) != number_solutions:\n",
    "    print('\\n      TIMES THAT A SOLUTION APPEARS ')\n",
    "    \n",
    "    for solution in unique_solution:\n",
    "       print(f'Solution {solution} appears {solutions_list.count(solution)} times.')\n"
   ]
  },
  {
   "attachments": {},
   "cell_type": "markdown",
   "metadata": {},
   "source": [
    "### 5. Generalizzate il programma per risolvere una scacchiera di qualunque dimensione NxN"
   ]
  },
  {
   "cell_type": "code",
   "execution_count": 13,
   "metadata": {},
   "outputs": [
    {
     "name": "stdout",
     "output_type": "stream",
     "text": [
      "Found solution [6, 2, 7, 1, 3, 0, 9, 4, 8, 5] in 0.040151119232177734 s.\n"
     ]
    }
   ],
   "source": [
    "def main(dim_scacchiera = 8):\n",
    "    if dim_scacchiera < 4:\n",
    "        print('The size of the chessboard must be at least 4x4 for the queens problem to be resolved.')\n",
    "    else:\n",
    "        # inizializzo generatore permutazioni\n",
    "        random_generator = random.Random()\n",
    "    \n",
    "        # preparo la \"possibile soluzione\" con posizoni da testare\n",
    "        scacchiera = list(range(dim_scacchiera))\n",
    "    \n",
    "        # conto le soluzioni trovate, inizio da 0\n",
    "        solutions = 0\n",
    "    \n",
    "        # misuro il tempo di partenza per la ricerca della soluzione\n",
    "        start_time = time.time()\n",
    "    \n",
    "        # loop finchè non trovo una soluzione\n",
    "        while solutions < 1:\n",
    "    \n",
    "            # permutazione casuale della soluzione 'mescolando' posizioni\n",
    "            random_generator.shuffle(scacchiera)\n",
    "    \n",
    "            # verifica se la permutazione casuale e' soluzione\n",
    "            # if soluzione_ok(scacchiera) == True:\n",
    "            if soluzione_ok(scacchiera):\n",
    "                # se la soluzione è buona, scrive\n",
    "                print(f'Found solution {scacchiera} in {time.time() - start_time} s.')\n",
    "    \n",
    "                # incremento contatore soluzioni trovate (condizione stop loop)\n",
    "                solutions += 1\n",
    "    \n",
    "                # reset timer ricerca soluzione\n",
    "                start_time = time.time()\n",
    "\n",
    "\n",
    "# chiamo la funzione principale \n",
    "main(10)"
   ]
  },
  {
   "attachments": {},
   "cell_type": "markdown",
   "metadata": {},
   "source": [
    "### 6. Trovate quale è la scacchiera più grande di cui si riesce a trovare 1 soluzione in meno di 40s"
   ]
  },
  {
   "cell_type": "code",
   "execution_count": 14,
   "metadata": {},
   "outputs": [
    {
     "name": "stdout",
     "output_type": "stream",
     "text": [
      "Found solution for the 4x4 size chessboard in 5.1975250244140625e-05 s.\n",
      "Found solution for the 5x5 size chessboard in 9.202957153320312e-05 s.\n",
      "Found solution for the 6x6 size chessboard in 0.00026297569274902344 s.\n",
      "Found solution for the 7x7 size chessboard in 0.00015401840209960938 s.\n",
      "Found solution for the 8x8 size chessboard in 0.004029989242553711 s.\n",
      "Found solution for the 9x9 size chessboard in 0.0042266845703125 s.\n",
      "Found solution for the 10x10 size chessboard in 0.003610849380493164 s.\n",
      "Found solution for the 11x11 size chessboard in 0.05765891075134277 s.\n",
      "Found solution for the 12x12 size chessboard in 0.17712116241455078 s.\n",
      "Found solution for the 13x13 size chessboard in 0.34003686904907227 s.\n",
      "Found solution for the 14x14 size chessboard in 2.0538089275360107 s.\n",
      "Found solution for the 15x15 size chessboard in 7.629923105239868 s.\n",
      "Found solution for the 16x16 size chessboard in 22.576072931289673 s.\n",
      "Found solution for the 17x17 size chessboard in 0.2841339111328125 s.\n",
      "\n",
      "END\n"
     ]
    }
   ],
   "source": [
    "def main(dim_scacchiera = 8):\n",
    "    if dim_scacchiera < 4:\n",
    "        print('The size of the chessboard must be at least 4x4 for the queens problem to be resolved.')\n",
    "    else:\n",
    "        # inizializzo generatore permutazioni\n",
    "        random_generator = random.Random()\n",
    "    \n",
    "        # preparo la \"possibile soluzione\" con posizoni da testare\n",
    "        scacchiera = list(range(dim_scacchiera))\n",
    "    \n",
    "        # conto le soluzioni trovate, inizio da 0\n",
    "        solutions = 0\n",
    "    \n",
    "        # misuro il tempo di partenza per la ricerca della soluzione\n",
    "        start_time = time.time()\n",
    "    \n",
    "        # loop finchè non trovo una soluzione\n",
    "        while solutions < 1:\n",
    "    \n",
    "            # permutazione casuale della soluzione 'mescolando' posizioni\n",
    "            random_generator.shuffle(scacchiera)\n",
    "    \n",
    "            # verifica se la permutazione casuale e' soluzione\n",
    "            # if soluzione_ok(scacchiera) == True:\n",
    "            if soluzione_ok(scacchiera):\n",
    "                processing_time = time.time() - start_time\n",
    "                \n",
    "                # se la soluzione è buona, scrive\n",
    "                # print(f'Found solution {scacchiera} in {time.time() - start_time} s.')\n",
    "    \n",
    "                # incremento contatore soluzioni trovate (condizione stop loop)\n",
    "                solutions += 1\n",
    "    \n",
    "                # reset timer ricerca soluzione\n",
    "                start_time = time.time()\n",
    "    \n",
    "        return processing_time\n",
    "\n",
    "\n",
    "# chiamo la funzione principale\n",
    "proces_time = 0\n",
    "dimension = 4\n",
    "\n",
    "while proces_time < 40:\n",
    "    proces_time = main(dimension)\n",
    "    \n",
    "    if proces_time < 40:\n",
    "        print(f'Found solution for the {dimension}x{dimension} size chessboard in {proces_time} s.')\n",
    "    \n",
    "    dimension += 1\n",
    "\n",
    "print('\\nEND')"
   ]
  },
  {
   "attachments": {},
   "cell_type": "markdown",
   "metadata": {},
   "source": [
    "### 7. Ogni soluzione è ‘simmetrica’ per rotazioni della scacchiera 8x8 di 90, 180 e 270 gradi. <br> Trovata una soluzione, costruite le 4 simmetriche per rotazione prima di cercarne un’altra"
   ]
  },
  {
   "cell_type": "code",
   "execution_count": 15,
   "metadata": {},
   "outputs": [],
   "source": [
    "def rotation_90(values_list):\n",
    "    \"\"\"Funzione che data la lista di soluzioni trova le soluzioni per simmetria di 90°.\"\"\"\n",
    "    turned_list = [0 for i in range(8)]\n",
    "    col_reversed = 7\n",
    "    \n",
    "    for value in values_list:\n",
    "        turned_list[value] = col_reversed\n",
    "        col_reversed -= 1\n",
    "\n",
    "    return turned_list"
   ]
  },
  {
   "cell_type": "code",
   "execution_count": 16,
   "metadata": {},
   "outputs": [
    {
     "name": "stdout",
     "output_type": "stream",
     "text": [
      "Found solution [2, 5, 1, 6, 4, 0, 7, 3] in 0.0004589557647705078 s.\n",
      "\n",
      "Found solution for rotation of 90° is [2, 5, 7, 0, 3, 6, 4, 1]\n",
      "Found solution for rotation of 180° is [4, 0, 7, 3, 1, 6, 2, 5]\n",
      "Found solution for rotation of 270° is [6, 3, 1, 4, 7, 0, 2, 5]\n"
     ]
    }
   ],
   "source": [
    "# inizializzo generatore permutazioni\n",
    "random_generator = random.Random()\n",
    "\n",
    "# preparo la \"possibile soluzione\" con posizoni da testare\n",
    "scacchiera = list(range(8))\n",
    "\n",
    "# conto le soluzioni trovate, inizio da 0           \n",
    "solutions = 0     \n",
    "\n",
    "# misuro il tempo di partenza per la ricerca della soluzione\n",
    "start_time = time.time()\n",
    "\n",
    "while solutions < 1:\n",
    "\n",
    "    # permutazione casuale della soluzione 'mescolando' posizioni\n",
    "    random_generator.shuffle(scacchiera)\n",
    "    \n",
    "    # verifica se la permutazione casuale e' soluzione\n",
    "    # if soluzione_ok(scacchiera) == True:\n",
    "    if soluzione_ok(scacchiera):\n",
    "        # soluzioni simmetriche per rotazione di 90°, 180° 270°\n",
    "        solution_90 = rotation_90(scacchiera)\n",
    "        solution_180 = rotation_90(solution_90)\n",
    "        solution_270 = rotation_90(solution_180)\n",
    "        \n",
    "        # se la soluzione è buona, scrive\n",
    "        print(f'Found solution {scacchiera} in {time.time() - start_time} s.')\n",
    "        print(f'\\nFound solution for rotation of 90° is {solution_90}')\n",
    "        print(f'Found solution for rotation of 180° is {solution_180}')\n",
    "        print(f'Found solution for rotation of 270° is {solution_270}')\n",
    "\n",
    "        # incremento contatore soluzioni trovate (condizione stop loop)\n",
    "        solutions += 1\n",
    "\n",
    "        # reset timer ricerca soluzione\n",
    "        start_time = time.time()\n",
    "        "
   ]
  },
  {
   "cell_type": "code",
   "execution_count": null,
   "metadata": {},
   "outputs": [],
   "source": []
  }
 ],
 "metadata": {
  "kernelspec": {
   "display_name": "Python 3 (ipykernel)",
   "language": "python",
   "name": "python3"
  },
  "language_info": {
   "codemirror_mode": {
    "name": "ipython",
    "version": 3
   },
   "file_extension": ".py",
   "mimetype": "text/x-python",
   "name": "python",
   "nbconvert_exporter": "python",
   "pygments_lexer": "ipython3",
   "version": "3.10.9"
  }
 },
 "nbformat": 4,
 "nbformat_minor": 4
}
