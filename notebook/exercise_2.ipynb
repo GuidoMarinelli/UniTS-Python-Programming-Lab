{
 "cells": [
  {
   "attachments": {},
   "cell_type": "markdown",
   "id": "2fe79140-616f-4dee-b293-782b61e98e9b",
   "metadata": {},
   "source": [
    "# Esercizio 2"
   ]
  },
  {
   "attachments": {},
   "cell_type": "markdown",
   "id": "9a5f8647-88e0-4e50-9a10-b524c38ce3a2",
   "metadata": {},
   "source": [
    "**File:** exercise_2.ipynb<br>\n",
    "**Author:** [G.Marinelli](https://github.com/GuidoMarinelli/)<br>\n",
    "**Date:** 2023/05/28<br>\n",
    "**Version:** 1.0<br>\n",
    "**Description:** Lezione 4 - Data Containers: Soluzione Esercizio 2."
   ]
  },
  {
   "attachments": {},
   "cell_type": "markdown",
   "id": "da211f64-8b85-48a7-97a9-f176acd9d7fc",
   "metadata": {},
   "source": [
    "Partendo dal testo:"
   ]
  },
  {
   "cell_type": "code",
   "execution_count": 1,
   "id": "474df3ff-a3b5-48c1-85ba-1198e9c8a9a3",
   "metadata": {},
   "outputs": [],
   "source": [
    "text = '''\n",
    "Day after day, day after day,\n",
    "We stuck, nor breath nor motion;\n",
    "As idle as a painted ship\n",
    "Upon a painted ocean.\n",
    "\n",
    "Water, water, every where,\n",
    "And all the boards did shrink;\n",
    "Water, water, every where,\n",
    "Nor any drop to drink.\n",
    "\n",
    "The very deep did rot: O Christ!\n",
    "That ever this should be!\n",
    "Yea, slimy things did crawl with legs\n",
    "Upon the slimy sea.\n",
    "\n",
    "About, about, in reel and rout\n",
    "The death-fires danced at night;\n",
    "The water, like a witch's oils,\n",
    "Burnt green, and blue and white.\n",
    "'''"
   ]
  },
  {
   "attachments": {},
   "cell_type": "markdown",
   "id": "c6b30947-5f2b-4b2f-b5db-5c94cc8057c7",
   "metadata": {
    "tags": []
   },
   "source": [
    "### 1. **Contate le righe** (di effettivo testo) che compongono l’estratto"
   ]
  },
  {
   "cell_type": "code",
   "execution_count": 2,
   "id": "e480eee0-80c8-4972-b6aa-b5a453832d41",
   "metadata": {},
   "outputs": [
    {
     "name": "stdout",
     "output_type": "stream",
     "text": [
      "Il numero di righe di effettivo testo sono 16.\n"
     ]
    }
   ],
   "source": [
    "count_rows = 0\n",
    "\n",
    "for row in text.splitlines():\n",
    "    if row != '':\n",
    "        count_rows += 1\n",
    "\n",
    "print(f'Il numero di righe di effettivo testo sono {count_rows}.')"
   ]
  },
  {
   "attachments": {},
   "cell_type": "markdown",
   "id": "f6941066-2b24-4143-a74c-46ec11f252d2",
   "metadata": {},
   "source": [
    "### 2. **Contate le parole** che compongono l’estratto"
   ]
  },
  {
   "cell_type": "code",
   "execution_count": 3,
   "id": "8dd3ae81-becc-4bc2-b6c2-44024a8968e8",
   "metadata": {},
   "outputs": [
    {
     "name": "stdout",
     "output_type": "stream",
     "text": [
      "L'estratto è composto da 87 parole.\n"
     ]
    }
   ],
   "source": [
    "count_words = 0\n",
    "\n",
    "for word in text.split():\n",
    "    count_words += 1\n",
    "\n",
    "print(f\"L'estratto è composto da {count_words} parole.\")"
   ]
  },
  {
   "attachments": {},
   "cell_type": "markdown",
   "id": "d550ed71-9a8a-4588-8412-dd7506c37e97",
   "metadata": {},
   "source": [
    "### 3. **Contate i caratteri** che compongono l’estratto"
   ]
  },
  {
   "cell_type": "code",
   "execution_count": 4,
   "id": "4345624d-d983-42d5-ae0c-49c752803aa0",
   "metadata": {},
   "outputs": [
    {
     "name": "stdout",
     "output_type": "stream",
     "text": [
      "Il numero di caratteri (compresi quelli di punteggiatura) sono 378\n"
     ]
    }
   ],
   "source": [
    "count_chars = 0\n",
    "\n",
    "for word in text.split():\n",
    "    for char in word:\n",
    "        count_chars += 1\n",
    "\n",
    "print(f'Il numero di caratteri (compresi quelli di punteggiatura) sono {count_chars}')"
   ]
  },
  {
   "attachments": {},
   "cell_type": "markdown",
   "id": "25b52dce-41d1-4fea-ad82-83756aba445d",
   "metadata": {},
   "source": [
    "### 4. **Sostituite** la parola  `water` con la parola `PYTHON` in tutti i versi"
   ]
  },
  {
   "cell_type": "code",
   "execution_count": 5,
   "id": "6974a513-9f62-4da5-9cd8-9078a60a8eda",
   "metadata": {},
   "outputs": [
    {
     "name": "stdout",
     "output_type": "stream",
     "text": [
      "Sostituisce la parola 'water' con 'PYTHON: \n",
      "\n",
      "Day after day, day after day,\n",
      "We stuck, nor breath nor motion;\n",
      "As idle as a painted ship\n",
      "Upon a painted ocean.\n",
      "\n",
      "Water, PYTHON, every where,\n",
      "And all the boards did shrink;\n",
      "Water, PYTHON, every where,\n",
      "Nor any drop to drink.\n",
      "\n",
      "The very deep did rot: O Christ!\n",
      "That ever this should be!\n",
      "Yea, slimy things did crawl with legs\n",
      "Upon the slimy sea.\n",
      "\n",
      "About, about, in reel and rout\n",
      "The death-fires danced at night;\n",
      "The PYTHON, like a witch's oils,\n",
      "Burnt green, and blue and white.\n",
      "\n"
     ]
    }
   ],
   "source": [
    "print(f\"Sostituisce la parola 'water' con 'PYTHON: \\n{text.replace('water', 'PYTHON')}\")"
   ]
  },
  {
   "attachments": {},
   "cell_type": "markdown",
   "id": "6cb46072-0ee1-4504-b2d6-e2f22f121808",
   "metadata": {
    "tags": []
   },
   "source": [
    "### 5. Riscrivete il testo con tutte le parole in **posizione pari** scritte in **maiuscolo**"
   ]
  },
  {
   "cell_type": "code",
   "execution_count": 7,
   "id": "0050244c-de50-44bd-8232-1ce72ee78c49",
   "metadata": {},
   "outputs": [
    {
     "name": "stdout",
     "output_type": "stream",
     "text": [
      "\n",
      "Day AFTER day, DAY after DAY, \n",
      "We STUCK, nor BREATH nor MOTION; \n",
      "As IDLE as A painted SHIP \n",
      "Upon A painted OCEAN. \n",
      "\n",
      "Water, WATER, every WHERE, \n",
      "And ALL the BOARDS did SHRINK; \n",
      "Water, WATER, every WHERE, \n",
      "Nor ANY drop TO drink. \n",
      "\n",
      "THE very DEEP did ROT: O CHRIST! \n",
      "That EVER this SHOULD be! \n",
      "YEA, slimy THINGS did CRAWL with LEGS \n",
      "Upon THE slimy SEA. \n",
      "\n",
      "About, ABOUT, in REEL and ROUT \n",
      "The DEATH-FIRES danced AT night; \n",
      "THE water, LIKE a WITCH'S oils, \n",
      "BURNT green, AND blue AND white. \n",
      "\n"
     ]
    }
   ],
   "source": [
    "count = 0\n",
    "text2 = ''''''\n",
    "\n",
    "for sentence in text.splitlines():\n",
    "\n",
    "    for word in sentence.split():\n",
    "        count += 1\n",
    "\n",
    "        if count % 2 == 0:\n",
    "            text2 += word.upper() + ' '\n",
    "        else:\n",
    "            text2 += word + ' '\n",
    "\n",
    "    text2 += '\\n'\n",
    "\n",
    "print(text2)"
   ]
  },
  {
   "attachments": {},
   "cell_type": "markdown",
   "id": "1d76ce62-d832-4daf-a217-c591dfff5fd0",
   "metadata": {},
   "source": [
    "### 6. Riscrivete il testo, **scrivendo a specchio** il terzo verso di ogni strofa"
   ]
  },
  {
   "cell_type": "code",
   "execution_count": 8,
   "id": "4fa7980e-0d0b-4952-9806-cab9c93fc6da",
   "metadata": {},
   "outputs": [
    {
     "name": "stdout",
     "output_type": "stream",
     "text": [
      "\n",
      "Day after day, day after day,\n",
      "We stuck, nor breath nor motion;\n",
      "ship painted a as idle As \n",
      "Upon a painted ocean.\n",
      "\n",
      "Water, water, every where,\n",
      "And all the boards did shrink;\n",
      "where, every water, Water, \n",
      "Nor any drop to drink.\n",
      "\n",
      "The very deep did rot: O Christ!\n",
      "That ever this should be!\n",
      "legs with crawl did things slimy Yea, \n",
      "Upon the slimy sea.\n",
      "\n",
      "About, about, in reel and rout\n",
      "The death-fires danced at night;\n",
      "oils, witch's a like water, The \n",
      "Burnt green, and blue and white.\n",
      "\n"
     ]
    }
   ],
   "source": [
    "text3 = ''''''\n",
    "\n",
    "for i, sentence in enumerate(text.splitlines()):\n",
    "    new_sentence = ''\n",
    "\n",
    "    if i in [3, 8, 13, 18]:\n",
    "        word_list = sentence.split()\n",
    "\n",
    "        for j in range(len(word_list) - 1, -1, -1):\n",
    "            new_sentence += word_list[j] + ' '\n",
    "\n",
    "    else:\n",
    "        new_sentence = sentence\n",
    "\n",
    "    text3 += new_sentence + '\\n'\n",
    "\n",
    "print(text3)"
   ]
  },
  {
   "attachments": {},
   "cell_type": "markdown",
   "id": "308a0ec4-7713-4e7c-bd9b-e054da2d671f",
   "metadata": {},
   "source": [
    "### 7. Trovate eventuali parole che compaiono in tutte le strofe"
   ]
  },
  {
   "cell_type": "code",
   "execution_count": 10,
   "id": "d2ccb64e-3e88-4445-ba02-a3c1c3803824",
   "metadata": {},
   "outputs": [
    {
     "name": "stdout",
     "output_type": "stream",
     "text": [
      "Parole che compaiono in tutte le strofe: set()\n"
     ]
    }
   ],
   "source": [
    "new_text = ''''''\n",
    "strofa1 = ''''''\n",
    "strofa2 = ''''''\n",
    "strofa3 = ''''''\n",
    "strofa4 = ''''''\n",
    "\n",
    "for sentence in text.splitlines():\n",
    "    if sentence != '':\n",
    "        for word in sentence.split():\n",
    "            if word.endswith('!') or word.endswith(',') or word.endswith('.') or word.endswith(':') or word.endswith(';'):\n",
    "                new_text += word[:-1] + ' '\n",
    "            else:\n",
    "                new_text += word + ' '\n",
    "        new_text += '\\n'\n",
    "\n",
    "for i, sentence in enumerate(new_text.splitlines()):\n",
    "    if i < 4:\n",
    "        strofa1 += sentence\n",
    "    if 4 <= i < 8:\n",
    "        strofa2 += sentence\n",
    "    if 8 <= i < 12:\n",
    "        strofa3 += sentence\n",
    "    if i >= 12:\n",
    "        strofa4 += sentence\n",
    "\n",
    "strofa1 = set(strofa1.split())\n",
    "strofa2 = set(strofa2.split())\n",
    "strofa3 = set(strofa3.split())\n",
    "strofa4 = set(strofa4.split())\n",
    "\n",
    "print(f'Parole che compaiono in tutte le strofe: {strofa1 & strofa2 & strofa3 & strofa4}')"
   ]
  },
  {
   "attachments": {},
   "cell_type": "markdown",
   "id": "6245a70f-384c-4fb5-8120-88460b8dad00",
   "metadata": {},
   "source": [
    "### 8. Create la **lista di tutte le parole** che compaiono nel testo e ordinatela per lunghezza delle parole (la lista ordinata non deve contenere ripetizioni)"
   ]
  },
  {
   "cell_type": "code",
   "execution_count": 12,
   "id": "89481c00-4b5d-4e33-a915-640927f64180",
   "metadata": {},
   "outputs": [
    {
     "data": {
      "text/plain": [
       "['O',\n",
       " 'a',\n",
       " 'As',\n",
       " 'We',\n",
       " 'as',\n",
       " 'at',\n",
       " 'be',\n",
       " 'in',\n",
       " 'to',\n",
       " 'And',\n",
       " 'Day',\n",
       " 'Nor',\n",
       " 'The',\n",
       " 'Yea',\n",
       " 'all',\n",
       " 'and',\n",
       " 'any',\n",
       " 'day',\n",
       " 'did',\n",
       " 'nor',\n",
       " 'rot',\n",
       " 'sea',\n",
       " 'the',\n",
       " 'That',\n",
       " 'Upon',\n",
       " 'blue',\n",
       " 'deep',\n",
       " 'drop',\n",
       " 'ever',\n",
       " 'idle',\n",
       " 'legs',\n",
       " 'like',\n",
       " 'oils',\n",
       " 'reel',\n",
       " 'rout',\n",
       " 'ship',\n",
       " 'this',\n",
       " 'very',\n",
       " 'with',\n",
       " 'About',\n",
       " 'Burnt',\n",
       " 'Water',\n",
       " 'about',\n",
       " 'after',\n",
       " 'crawl',\n",
       " 'drink',\n",
       " 'every',\n",
       " 'green',\n",
       " 'night',\n",
       " 'ocean',\n",
       " 'slimy',\n",
       " 'stuck',\n",
       " 'water',\n",
       " 'where',\n",
       " 'white',\n",
       " 'Christ',\n",
       " 'boards',\n",
       " 'breath',\n",
       " 'danced',\n",
       " 'motion',\n",
       " 'should',\n",
       " 'shrink',\n",
       " 'things',\n",
       " 'painted',\n",
       " \"witch's\",\n",
       " 'death-fires']"
      ]
     },
     "execution_count": 12,
     "metadata": {},
     "output_type": "execute_result"
    }
   ],
   "source": [
    "words_list = []\n",
    "sorted_words_list = []\n",
    "\n",
    "for word in text.split():\n",
    "    if word.endswith('!') or word.endswith(',') or word.endswith('.') or word.endswith(':') or word.endswith(';'):\n",
    "        words_list.append(word[:-1])\n",
    "    else:\n",
    "        words_list.append(word)\n",
    "\n",
    "words_list = list(set(words_list))\n",
    "\n",
    "max_length_word = max([len(word) for word in words_list])\n",
    "\n",
    "for length in range(1, max_length_word + 1):\n",
    "    for word in sorted(words_list):\n",
    "        if len(word) == length:\n",
    "            sorted_words_list.append(word)\n",
    "\n",
    "sorted_words_list"
   ]
  },
  {
   "attachments": {},
   "cell_type": "markdown",
   "id": "09fe3db8-ee1c-458f-ba31-b07466992ef5",
   "metadata": {},
   "source": [
    "### 9. Create un **dizionario che mappi ogni carattere** (chiave) con la sua occorrenza nel testo (valore)"
   ]
  },
  {
   "cell_type": "code",
   "execution_count": 13,
   "id": "7768978b-c8d2-4ab6-bc96-134c72296024",
   "metadata": {},
   "outputs": [
    {
     "data": {
      "text/plain": [
       "{'D': 1,\n",
       " 'a': 33,\n",
       " 'y': 10,\n",
       " 'f': 3,\n",
       " 't': 30,\n",
       " 'e': 45,\n",
       " 'r': 29,\n",
       " 'd': 24,\n",
       " ',': 15,\n",
       " 'W': 3,\n",
       " 's': 17,\n",
       " 'u': 7,\n",
       " 'c': 5,\n",
       " 'k': 4,\n",
       " 'n': 21,\n",
       " 'o': 17,\n",
       " 'b': 6,\n",
       " 'h': 20,\n",
       " 'm': 3,\n",
       " 'i': 23,\n",
       " ';': 3,\n",
       " 'A': 3,\n",
       " 'l': 12,\n",
       " 'p': 7,\n",
       " 'U': 2,\n",
       " '.': 4,\n",
       " 'w': 9,\n",
       " 'v': 4,\n",
       " 'N': 1,\n",
       " 'T': 4,\n",
       " ':': 1,\n",
       " 'O': 1,\n",
       " 'C': 1,\n",
       " '!': 2,\n",
       " 'Y': 1,\n",
       " 'g': 4,\n",
       " '-': 1,\n",
       " \"'\": 1,\n",
       " 'B': 1}"
      ]
     },
     "execution_count": 13,
     "metadata": {},
     "output_type": "execute_result"
    }
   ],
   "source": [
    "chars_dict = {}\n",
    "\n",
    "for word in text.split():\n",
    "    for char in word:\n",
    "        if char in chars_dict:\n",
    "            chars_dict[char] += 1\n",
    "        else:\n",
    "            chars_dict[char] = 1\n",
    "\n",
    "chars_dict"
   ]
  },
  {
   "attachments": {},
   "cell_type": "markdown",
   "id": "e085bd12-aa0c-4669-9080-f87211e330db",
   "metadata": {},
   "source": [
    "### 10. Create un **dizionario** come il precedente per le **sole lettere** (no caratteri speciali), ignorando maiuscole e minuscole"
   ]
  },
  {
   "cell_type": "code",
   "execution_count": 18,
   "id": "3f7d2f52-a3f6-425d-a756-d2a709d73b25",
   "metadata": {},
   "outputs": [
    {
     "data": {
      "text/plain": [
       "{'D': 25,\n",
       " 'A': 36,\n",
       " 'Y': 11,\n",
       " 'F': 3,\n",
       " 'T': 34,\n",
       " 'E': 45,\n",
       " 'R': 29,\n",
       " 'W': 12,\n",
       " 'S': 17,\n",
       " 'U': 9,\n",
       " 'C': 6,\n",
       " 'K': 4,\n",
       " 'N': 22,\n",
       " 'O': 18,\n",
       " 'B': 7,\n",
       " 'H': 20,\n",
       " 'M': 3,\n",
       " 'I': 23,\n",
       " 'L': 12,\n",
       " 'P': 7,\n",
       " 'V': 4,\n",
       " 'G': 4}"
      ]
     },
     "execution_count": 18,
     "metadata": {},
     "output_type": "execute_result"
    }
   ],
   "source": [
    "chars_dict2 = {}\n",
    "\n",
    "for word in text.upper().split():\n",
    "    for char in word:\n",
    "        if char not in ['!', \"'\", ',', '-', '.', ':', ';']:\n",
    "            if char in chars_dict2:\n",
    "                chars_dict2[char] += 1\n",
    "            else:\n",
    "                chars_dict2[char] = 1\n",
    "\n",
    "chars_dict2"
   ]
  },
  {
   "cell_type": "code",
   "execution_count": null,
   "id": "bb39b513-cec4-419b-bc20-696fad06efe4",
   "metadata": {},
   "outputs": [],
   "source": []
  }
 ],
 "metadata": {
  "kernelspec": {
   "display_name": "Python 3 (ipykernel)",
   "language": "python",
   "name": "python3"
  },
  "language_info": {
   "codemirror_mode": {
    "name": "ipython",
    "version": 3
   },
   "file_extension": ".py",
   "mimetype": "text/x-python",
   "name": "python",
   "nbconvert_exporter": "python",
   "pygments_lexer": "ipython3",
   "version": "3.10.11"
  }
 },
 "nbformat": 4,
 "nbformat_minor": 5
}
