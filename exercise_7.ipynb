{
 "cells": [
  {
   "attachments": {},
   "cell_type": "markdown",
   "id": "b2da73a8-5e33-4809-a425-a2590436e9db",
   "metadata": {},
   "source": [
    "# Esercizio 7"
   ]
  },
  {
   "attachments": {},
   "cell_type": "markdown",
   "id": "e1600486-b76d-43aa-b99b-41fbf157962f",
   "metadata": {},
   "source": [
    "**File:** exercise_7.ipynb<br>\n",
    "**Author:** [G.Marinelli](https://github.com/GuidoMarinelli/)<br>\n",
    "**Date:** 2023/06/21<br>\n",
    "**Version:** 1.0<br>\n",
    "**Description:** Lezione 12 - Unpacking, Decoratori, Generatori, Lambda: Soluzione Esercizio 7."
   ]
  },
  {
   "attachments": {},
   "cell_type": "markdown",
   "id": "3437a19c-9306-4598-a78f-a47d90b64579",
   "metadata": {},
   "source": [
    "Creare un programma per giocare con le tabelline.\n",
    "\n",
    "Il programma deve:\n",
    "\n",
    "1. contenere un generatore che, dato un numero (ad esempio 7), generi la tabellina corrispondente al numero selezionato (0x7 = 0; 1x7 = 7; 2x7 = 14; ecc…);\n",
    "2. contenere un loop che chieda in modo interrattivo all’utente di indovinare il valore corrente nella tabellina selezionata;\n",
    "3. gestire tutti i caratteri alfanumerici (non deve “rompersi” se l’utente sceglie una lettera);\n",
    "4. gestire caretteri speciali o numeri decimali;\n",
    "5. gestire la chiusura tramite KeyboardInterrupt in modo personalizzato."
   ]
  },
  {
   "cell_type": "markdown",
   "id": "f575a617-4a4b-406e-9195-25e1c04560fa",
   "metadata": {},
   "source": [
    "### Il Programma"
   ]
  },
  {
   "cell_type": "code",
   "execution_count": 1,
   "id": "f79057e1-6e21-475e-bd45-f7b88737a777",
   "metadata": {},
   "outputs": [
    {
     "name": "stdin",
     "output_type": "stream",
     "text": [
      "Con quale tabellina vuoi giocare?  @!#lkj\n"
     ]
    },
    {
     "name": "stdout",
     "output_type": "stream",
     "text": [
      " 😡 Devi inserire un numero maggiore o uguale a 1.\n"
     ]
    },
    {
     "name": "stdin",
     "output_type": "stream",
     "text": [
      "Con quale tabellina vuoi giocare?  6\n"
     ]
    },
    {
     "name": "stdout",
     "output_type": "stream",
     "text": [
      "\n",
      "\t\t TABELLINA DEL 6\n",
      "\n",
      "   Per terminare inserisci un intero negativo.\n",
      "\n",
      "\n"
     ]
    },
    {
     "name": "stdin",
     "output_type": "stream",
     "text": [
      "Indovina il valore corrente nella tabellina:  0\n"
     ]
    },
    {
     "name": "stdout",
     "output_type": "stream",
     "text": [
      " Bravo! 👍\n"
     ]
    },
    {
     "name": "stdin",
     "output_type": "stream",
     "text": [
      "Indovina il valore corrente nella tabellina:  6\n"
     ]
    },
    {
     "name": "stdout",
     "output_type": "stream",
     "text": [
      " Bravo! 👍\n"
     ]
    },
    {
     "name": "stdin",
     "output_type": "stream",
     "text": [
      "Indovina il valore corrente nella tabellina:  9\n"
     ]
    },
    {
     "name": "stdout",
     "output_type": "stream",
     "text": [
      " Hai Sbagliato! 😱 Il valore corretto è 12\n"
     ]
    },
    {
     "name": "stdin",
     "output_type": "stream",
     "text": [
      "Indovina il valore corrente nella tabellina:  Loy #!@\n"
     ]
    },
    {
     "name": "stdout",
     "output_type": "stream",
     "text": [
      " 😡 Hai sbagliato a digitare! Riprova!\n"
     ]
    },
    {
     "name": "stdin",
     "output_type": "stream",
     "text": [
      "Indovina il valore corrente nella tabellina:  18\n"
     ]
    },
    {
     "name": "stdout",
     "output_type": "stream",
     "text": [
      " Bravo! 👍\n"
     ]
    },
    {
     "name": "stdin",
     "output_type": "stream",
     "text": [
      "Indovina il valore corrente nella tabellina:  -1\n"
     ]
    },
    {
     "name": "stdout",
     "output_type": "stream",
     "text": [
      " Alla prossima! 👋\n"
     ]
    }
   ],
   "source": [
    "FURIOUS_FACE = \"\\U0001F621\"  # Valore unicode per l'emoji della faccina furiosa\n",
    "THUMBS_UP = \"\\U0001F44D\"  # Valore unicode per l'emoji del pollice rivolto verso l'alto\n",
    "SCARED_FACE = \"\\U0001F631\"  # Valore unicode per l'emoji della faccina che urla di paura\n",
    "HAND_THAT_GREETS = \"\\U0001F44B\"  # Valore unicode per l'emoji della mano che saluta\n",
    "\n",
    "\n",
    "def times_tables_generator(number):\n",
    "    \"\"\"Funzione che crea il generatore della tabellina per un numero dato.\"\"\"\n",
    "    n = 0\n",
    "    while True:\n",
    "        yield n * number\n",
    "        n = n + 1\n",
    "\n",
    "        \n",
    "# Chiede all'utente quale tabellina generare\n",
    "choice = True\n",
    "\n",
    "while choice:\n",
    "    try:\n",
    "        number_selected = int(input(\"Con quale tabellina vuoi giocare? \"))\n",
    "    except ValueError:\n",
    "        print(f\" {FURIOUS_FACE} Devi inserire un numero maggiore o uguale a 1.\")\n",
    "    else:\n",
    "        if number_selected < 1:\n",
    "            print(f\" {FURIOUS_FACE} Il numero inserito deve essere maggiore o uguale a 1.\")\n",
    "        else:\n",
    "            generator = times_tables_generator(number_selected)\n",
    "            choice = False\n",
    "\n",
    "# Gestisce il prompt del titolo\n",
    "if number_selected == 1:\n",
    "    header = f\"\\n\\t\\t Tabellina dell'{number_selected}\\n\"\n",
    "else:\n",
    "    header = f\"\\n\\t\\t Tabellina del {number_selected}\\n\"\n",
    "\n",
    "print(header.upper())\n",
    "print(\"   Per terminare inserisci un intero negativo.\\n\\n\")\n",
    "\n",
    "# Loop che chiede in modo interattivo all'utente il valore da indovinare\n",
    "sentinel = True\n",
    "\n",
    "while sentinel:\n",
    "    try:\n",
    "        answer = int(input(\"Indovina il valore corrente nella tabellina: \"))\n",
    "    except ValueError:\n",
    "        print(f\" {FURIOUS_FACE} Hai sbagliato a digitare! Riprova!\")\n",
    "\n",
    "    else:\n",
    "        value = next(generator)\n",
    "        if answer == value:\n",
    "            print(f\" Bravo! {THUMBS_UP}\")\n",
    "        elif answer < 0:\n",
    "            print(f\" Alla prossima! {HAND_THAT_GREETS}\")\n",
    "            sentinel = False\n",
    "        else:\n",
    "            print(f\" Hai Sbagliato! {SCARED_FACE} Il valore corretto è {value}\")\n"
   ]
  },
  {
   "cell_type": "code",
   "execution_count": null,
   "id": "a39bfe82-9524-43c0-839b-5a4bc8a2d04a",
   "metadata": {},
   "outputs": [],
   "source": []
  }
 ],
 "metadata": {
  "kernelspec": {
   "display_name": "Python 3 (ipykernel)",
   "language": "python",
   "name": "python3"
  },
  "language_info": {
   "codemirror_mode": {
    "name": "ipython",
    "version": 3
   },
   "file_extension": ".py",
   "mimetype": "text/x-python",
   "name": "python",
   "nbconvert_exporter": "python",
   "pygments_lexer": "ipython3",
   "version": "3.10.9"
  }
 },
 "nbformat": 4,
 "nbformat_minor": 5
}
