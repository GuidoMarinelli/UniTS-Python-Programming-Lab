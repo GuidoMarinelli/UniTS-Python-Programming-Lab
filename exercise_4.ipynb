{
 "cells": [
  {
   "attachments": {},
   "cell_type": "markdown",
   "id": "b2da73a8-5e33-4809-a425-a2590436e9db",
   "metadata": {},
   "source": [
    "# Esercizio 4"
   ]
  },
  {
   "attachments": {},
   "cell_type": "markdown",
   "id": "e1600486-b76d-43aa-b99b-41fbf157962f",
   "metadata": {},
   "source": [
    "**File:** exercise_4.ipynb<br>\n",
    "**Author:** [G.Marinelli](https://github.com/GuidoMarinelli/)<br>\n",
    "**Date:** 2023/05/30<br>\n",
    "**Version:** 1.0<br>\n",
    "**Description:** Lezione 6 - Input/Output: Soluzione Esercizio 4."
   ]
  },
  {
   "attachments": {},
   "cell_type": "markdown",
   "id": "3437a19c-9306-4598-a78f-a47d90b64579",
   "metadata": {},
   "source": [
    "### Create un file di <code>rubrica.txt</code> contenente:"
   ]
  },
  {
   "cell_type": "code",
   "execution_count": 2,
   "id": "e8a956f7-c956-445c-9dbd-b82f1878226e",
   "metadata": {},
   "outputs": [],
   "source": [
    "text = '''\n",
    "Paolino Paperino, 9, giugno, 1934, 89, M, paolino.paperin0@disney.org\n",
    "Ron Weasley, 1, marzo, 1980, 43, M, ron_weasley80@hogwards.uk\n",
    "Ramona Flowers, 18, ottobre, 2004, 19, F, ramona.fls@gmail.com\n",
    "Madoka Ayukawa, 25, maggio, 1969, 54, F, madoka_sax@asahi_net.jp\n",
    "'''"
   ]
  },
  {
   "cell_type": "code",
   "execution_count": 3,
   "id": "1db92877-f859-4468-ac6f-31dad445ce3f",
   "metadata": {},
   "outputs": [],
   "source": [
    "with open('rubrica.txt', 'w') as write_file:\n",
    "    for line in text.split('\\n'):\n",
    "        write_file.write(f'{line}\\n')"
   ]
  },
  {
   "attachments": {},
   "cell_type": "markdown",
   "id": "75ce29f0-f977-43be-9bdc-4daf34bf8ea8",
   "metadata": {},
   "source": [
    "### 1. Leggete il file e organizzatelo in una struttura <code>rubrica</code> a dizionari annidati come:"
   ]
  },
  {
   "cell_type": "code",
   "execution_count": 1,
   "id": "726b85d4-2542-4cb5-932a-998789b14c4e",
   "metadata": {},
   "outputs": [
    {
     "name": "stdout",
     "output_type": "stream",
     "text": [
      "\n",
      "Paolino Paperino, 9, giugno, 1934, 89, M, paolino.paperin0@disney.org\n",
      "Ron Weasley, 1, marzo, 1980, 43, M, ron_weasley80@hogwards.uk\n",
      "Ramona Flowers, 18, ottobre, 2004, 19, F, ramona.fls@gmail.com\n",
      "Madoka Ayukawa, 25, maggio, 1969, 54, F, madoka_sax@asahi_net.jp\n",
      "\n",
      "\n"
     ]
    }
   ],
   "source": [
    "with open('rubrica.txt', 'r') as file_read:\n",
    "    file = file_read.read()\n",
    "    print(file)"
   ]
  },
  {
   "cell_type": "code",
   "execution_count": 2,
   "id": "8ba1026d-a8fb-49fd-9c35-df757ed9b8a8",
   "metadata": {},
   "outputs": [],
   "source": [
    "records = [record.split(',') for record in file.split('\\n') if record != '' ]"
   ]
  },
  {
   "cell_type": "code",
   "execution_count": 3,
   "id": "9e6e2f28-5bd7-4d1c-8a19-e46d0b4b6364",
   "metadata": {},
   "outputs": [
    {
     "data": {
      "text/plain": [
       "{'Paolino Paperino': {'giorno': 9,\n",
       "  'mese': 'giugno',\n",
       "  'anno': 1934,\n",
       "  'età': 89,\n",
       "  'sesso': 'M',\n",
       "  'mail': 'paolino.paperin0@disney.org'},\n",
       " 'Ron Weasley': {'giorno': 1,\n",
       "  'mese': 'marzo',\n",
       "  'anno': 1980,\n",
       "  'età': 43,\n",
       "  'sesso': 'M',\n",
       "  'mail': 'ron_weasley80@hogwards.uk'},\n",
       " 'Ramona Flowers': {'giorno': 18,\n",
       "  'mese': 'ottobre',\n",
       "  'anno': 2004,\n",
       "  'età': 19,\n",
       "  'sesso': 'F',\n",
       "  'mail': 'ramona.fls@gmail.com'},\n",
       " 'Madoka Ayukawa': {'giorno': 25,\n",
       "  'mese': 'maggio',\n",
       "  'anno': 1969,\n",
       "  'età': 54,\n",
       "  'sesso': 'F',\n",
       "  'mail': 'madoka_sax@asahi_net.jp'}}"
      ]
     },
     "execution_count": 3,
     "metadata": {},
     "output_type": "execute_result"
    }
   ],
   "source": [
    "rubrica = {}\n",
    "\n",
    "for i, record in enumerate(records):\n",
    "    values = {}\n",
    "    \n",
    "    name = record[0] \n",
    "    values['giorno'] = int(record[1])\n",
    "    values['mese'] = record[2].strip()\n",
    "    values['anno'] = int(record[3])\n",
    "    values['età'] = int(record[4])\n",
    "    values['sesso'] = record[5].strip()\n",
    "    values['mail'] = record[6].strip()\n",
    "    rubrica[name] = values\n",
    "    \n",
    "rubrica"
   ]
  },
  {
   "attachments": {},
   "cell_type": "markdown",
   "id": "c99274e9-c53f-456f-a012-f01bce7cab14",
   "metadata": {},
   "source": [
    "### 2. A partire dalla rubrica, costruire la lista delle età, ordinata in ordine crescente e visualizzate i nomi in ordine crescente di età"
   ]
  },
  {
   "cell_type": "code",
   "execution_count": 5,
   "id": "ee4942a8-12de-4301-be7b-e4025318ea86",
   "metadata": {},
   "outputs": [
    {
     "name": "stdout",
     "output_type": "stream",
     "text": [
      "Ramona Flowers 19\n",
      "Ron Weasley 43\n",
      "Madoka Ayukawa 54\n",
      "Paolino Paperino 89\n"
     ]
    }
   ],
   "source": [
    "age_list = [item['età'] for name, item in rubrica.items()]\n",
    "age_list.sort()\n",
    "\n",
    "for age in age_list:\n",
    "    for name, value in rubrica.items():\n",
    "        if age == value['età']:\n",
    "            print(name, age)\n"
   ]
  },
  {
   "attachments": {},
   "cell_type": "markdown",
   "id": "7e45291c-c108-4786-b77b-90cbf381c542",
   "metadata": {},
   "source": [
    "### 3. Invertire l’ordine della lista precedentemente costruita e visualizzatela"
   ]
  },
  {
   "cell_type": "code",
   "execution_count": 6,
   "id": "17c96c06-e04d-4361-8c05-23e5ac5e1f6c",
   "metadata": {},
   "outputs": [
    {
     "data": {
      "text/plain": [
       "[89, 54, 43, 19]"
      ]
     },
     "execution_count": 6,
     "metadata": {},
     "output_type": "execute_result"
    }
   ],
   "source": [
    "age_list.sort(reverse=True)\n",
    "age_list"
   ]
  },
  {
   "attachments": {},
   "cell_type": "markdown",
   "id": "e1af64b1-0172-4924-9bb8-76979c11d5bf",
   "metadata": {},
   "source": [
    "### 4. Utilizzare la rubrica per scrivere ad OGNI membro della rubrica, il seguente messaggio:"
   ]
  },
  {
   "cell_type": "code",
   "execution_count": 9,
   "id": "84a9d642-a824-445b-9d8a-5d7b054b1343",
   "metadata": {},
   "outputs": [
    {
     "name": "stdout",
     "output_type": "stream",
     "text": [
      "Caro Paolino Paperino,\n",
      "sei nato il 9 di giugno del 1934 e quindi a breve compirai 89 anni.\n",
      "Ti manderemo gli auguri a paolino.paperin0@disney.org\n",
      "\n",
      "Caro Ron Weasley,\n",
      "sei nato il 1 di marzo del 1980 e quindi a breve compirai 43 anni.\n",
      "Ti manderemo gli auguri a ron_weasley80@hogwards.uk\n",
      "\n",
      "Cara Ramona Flowers,\n",
      "sei nata il 18 di ottobre del 2004 e quindi a breve compirai 19 anni.\n",
      "Ti manderemo gli auguri a ramona.fls@gmail.com\n",
      "\n",
      "Cara Madoka Ayukawa,\n",
      "sei nata il 25 di maggio del 1969 e quindi a breve compirai 54 anni.\n",
      "Ti manderemo gli auguri a madoka_sax@asahi_net.jp\n",
      "\n"
     ]
    }
   ],
   "source": [
    "for name, values in rubrica.items():\n",
    "    if values['sesso'] == 'M':\n",
    "        vowel = 'o'\n",
    "    else:\n",
    "        vowel = 'a'\n",
    "    print(f\"Car{vowel} {name},\\n\"\n",
    "          f\"sei nat{vowel} il {values['giorno']} di {values['mese']} del {values['anno']} e quindi a breve compirai {values['età']} anni.\\n\"\n",
    "          f\"Ti manderemo gli auguri a {values['mail']}\\n\"\"\")"
   ]
  },
  {
   "cell_type": "code",
   "execution_count": null,
   "id": "b37b81f1-aee7-40ce-9eed-ad8a3167d7b8",
   "metadata": {},
   "outputs": [],
   "source": []
  }
 ],
 "metadata": {
  "kernelspec": {
   "display_name": "Python 3 (ipykernel)",
   "language": "python",
   "name": "python3"
  },
  "language_info": {
   "codemirror_mode": {
    "name": "ipython",
    "version": 3
   },
   "file_extension": ".py",
   "mimetype": "text/x-python",
   "name": "python",
   "nbconvert_exporter": "python",
   "pygments_lexer": "ipython3",
   "version": "3.10.11"
  }
 },
 "nbformat": 4,
 "nbformat_minor": 5
}
